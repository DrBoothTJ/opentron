{
 "cells": [
  {
   "cell_type": "markdown",
   "metadata": {},
   "source": [
    "# Opentrons Notebook\n",
    "\n",
    "This notebook is for learning how to use the opentrons python API to create protocols for automation."
   ]
  },
  {
   "cell_type": "markdown",
   "metadata": {},
   "source": [
    "## Imports\n",
    "Install the opentrons api and import."
   ]
  },
  {
   "cell_type": "code",
   "execution_count": 1,
   "metadata": {},
   "outputs": [],
   "source": [
    "from opentrons import protocol_api"
   ]
  },
  {
   "cell_type": "markdown",
   "metadata": {},
   "source": [
    "## Metadata\n",
    "Fill in your personal deails and method description."
   ]
  },
  {
   "cell_type": "code",
   "execution_count": 2,
   "metadata": {},
   "outputs": [],
   "source": [
    "# metadata\n",
    "metadata = {\n",
    "    'protocolName': 'Heat Shock',\n",
    "    'author': 'Thom Booth <thoboo@biosustain.dtu.dk>',\n",
    "    'description': 'Protocol for the transformation of chemical competent E.coli.',\n",
    "    'apiLevel': '2.12'\n",
    "}"
   ]
  },
  {
   "cell_type": "markdown",
   "metadata": {},
   "source": [
    "## Protocol\n",
    "This function will run the protocol.\n",
    "\n",
    "### Setting up labware, modules and instruments\n",
    "\n",
    "Specify the labware, pippettes and finally the protocol itself. \n",
    "\n",
    "For each piece of labware, use: `protocol.load_labware('name_of_labware', int(slot_number))`. \n",
    "For a list of default labware, see: https://labware.opentrons.com/. Custom labware objects can also be generated if needed.\n",
    "\n",
    "For heatshock, we also need to add our heat block. This is a special module so must be added seperately from other labware. Use: use: `protocol.load_module()`. More info on modules can be found here: https://docs.opentrons.com/v2/new_modules.html. You also need to load labware to your module! See: `module.load_labware()`.\n",
    "\n",
    "For the left and right pippette, use: `protocol.load_instrument('name_of_instrument', 'left_or_right', tip_racks=[name_of_tiprack])`.\n",
    "\n",
    "### Creating the Commands\n",
    "Now all we need to do is specify commands in the correct order.\n",
    "\n",
    "In this example, we will:\n",
    "1. Set the temperature and wait for the temperature to reach 42 degrees;\n",
    "2. Transfer 2 ul of DNA from the DNA plate to the E.coli plates and wait for 10 mins;\n",
    "3. Transfer 22 ul of E.coli + DNA to the heatblock and wait for 45 seconds;\n",
    "4. Transfer 20 ul of E.coli + DNA to the E.coli plate and wait for 1 min;\n",
    "5. Transfer 150 ul LB from media tube to each well of the E.coli plate."
   ]
  },
  {
   "cell_type": "code",
   "execution_count": 3,
   "metadata": {},
   "outputs": [],
   "source": [
    "def run(protocol: protocol_api.ProtocolContext):\n",
    "    # labware\n",
    "    dna_plate = protocol.load_labware('biorad_96_wellplate_200ul_pcr', '1')\n",
    "    ecoli_plate = protocol.load_labware('biorad_96_wellplate_200ul_pcr', '2')\n",
    "    media_rack = protocol.load_labware('!!!!!!!!!!!!!!!!!!!!!!!!!!!!!!!!!!!!', '4')\n",
    "    tiprack_20 = protocol.load_labware('opentrons_96_tiprack_20ul', '10')\n",
    "    tiprack_1000 = protocol.load_labware('opentrons_96_tiprack_1000ul', '9')\n",
    "    # modules\n",
    "    heat_block = protocol.load_module('temperature module', 3)\n",
    "    heat_plate = heat_block.load_labware('opentrons_96_aluminumblock_generic_pcr_strip_200ul')\n",
    "    # pipettes\n",
    "    left_pipette = protocol.load_instrument('p20_multi_gen2', 'left', tip_racks=[tiprack_20])\n",
    "    right_pipette = protocol.load_instrument('p1000_multi_gen2', 'right', tip_racks=[tiprack_1000])\n",
    "    # commands\n",
    "    #Step 1 - Get the heatblock to temp and wait for user\n",
    "    heat_block.set_temperature(42) #Note new version waits automatically.\n",
    "    \n",
    "    #Step 2 - Add DNA to E.coli and wait 10 mins\n",
    "    left.pick_up_tip()\n",
    "    left.aspirate(2, dna_plate['A1'])\n",
    "    left.dispense(2, ecoli_plate['A1'].bottom())\n",
    "    pipette.mix(3, 10)\n",
    "    left.drop_tip()\n",
    "    protocol.delay(minutes=10)\n",
    "    \n",
    "    #Step 3 - Transfer to headblock and incubate for 45s\n",
    "    left.pick_up_tip()\n",
    "    left.aspirate(21, ecoli_plate['A1'])\n",
    "    left.dispense(21, heat_plate['A1'])\n",
    "    left.drop_tip()\n",
    "    protocol.delay(seconds=45)\n",
    "    \n",
    "    #Step 4 - Transfer back to block\n",
    "    left.pick_up_tip()\n",
    "    left.aspirate(20, heat_plate['A1'])\n",
    "    left.dispense(20, ecoli_plate['A1'])\n",
    "    left.drop_tip()\n",
    "    \n",
    "    #Step 5 - Add LB\n",
    "    row = ['A1','A2','A3','A4','A5','A6','A7','A8']\n",
    "    for well in row:\n",
    "        right.pick_up_tip()\n",
    "        left.aspirate(1000, media_plate['A1'])\n",
    "        left.dispense(150, ecoli_plate[well])\n",
    "        left.drop_tip()"
   ]
  },
  {
   "cell_type": "code",
   "execution_count": null,
   "metadata": {},
   "outputs": [],
   "source": []
  }
 ],
 "metadata": {
  "kernelspec": {
   "display_name": "Python 3",
   "language": "python",
   "name": "python3"
  },
  "language_info": {
   "codemirror_mode": {
    "name": "ipython",
    "version": 3
   },
   "file_extension": ".py",
   "mimetype": "text/x-python",
   "name": "python",
   "nbconvert_exporter": "python",
   "pygments_lexer": "ipython3",
   "version": "3.7.0"
  }
 },
 "nbformat": 4,
 "nbformat_minor": 2
}
